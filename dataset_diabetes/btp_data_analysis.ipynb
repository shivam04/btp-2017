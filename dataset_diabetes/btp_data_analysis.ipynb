{
 "cells": [
  {
   "cell_type": "code",
   "execution_count": 58,
   "metadata": {
    "collapsed": true
   },
   "outputs": [],
   "source": [
    "from sklearn.linear_model import LogisticRegression\n",
    "from sklearn.naive_bayes import GaussianNB\n",
    "from sklearn import tree\n",
    "import numpy as np\n",
    "import pandas as pd\n",
    "from sklearn.ensemble import RandomForestClassifier\n",
    "import matplotlib.pyplot as plt"
   ]
  },
  {
   "cell_type": "code",
   "execution_count": 59,
   "metadata": {},
   "outputs": [
    {
     "name": "stdout",
     "output_type": "stream",
     "text": [
      "Index([u'race', u'gender', u'age', u'admission_type_id',\n",
      "       u'discharge_disposition_id', u'admission_source_id',\n",
      "       u'time_in_hospital', u'medical_specialty', u'num_lab_procedures',\n",
      "       u'num_procedures', u'num_medications', u'number_outpatient',\n",
      "       u'number_emergency', u'number_inpatient', u'diag_1', u'diag_2',\n",
      "       u'diag_3', u'number_diagnoses', u'A1Cresult', u'insulin', u'change',\n",
      "       u'diabetesMed', u'readmitted'],\n",
      "      dtype='object')\n"
     ]
    },
    {
     "data": {
      "text/html": [
       "<div>\n",
       "<style>\n",
       "    .dataframe thead tr:only-child th {\n",
       "        text-align: right;\n",
       "    }\n",
       "\n",
       "    .dataframe thead th {\n",
       "        text-align: left;\n",
       "    }\n",
       "\n",
       "    .dataframe tbody tr th {\n",
       "        vertical-align: top;\n",
       "    }\n",
       "</style>\n",
       "<table border=\"1\" class=\"dataframe\">\n",
       "  <thead>\n",
       "    <tr style=\"text-align: right;\">\n",
       "      <th></th>\n",
       "      <th>race</th>\n",
       "      <th>gender</th>\n",
       "      <th>age</th>\n",
       "      <th>admission_type_id</th>\n",
       "      <th>discharge_disposition_id</th>\n",
       "      <th>admission_source_id</th>\n",
       "      <th>time_in_hospital</th>\n",
       "      <th>medical_specialty</th>\n",
       "      <th>num_lab_procedures</th>\n",
       "      <th>num_procedures</th>\n",
       "      <th>...</th>\n",
       "      <th>number_emergency</th>\n",
       "      <th>number_inpatient</th>\n",
       "      <th>diag_1</th>\n",
       "      <th>diag_2</th>\n",
       "      <th>diag_3</th>\n",
       "      <th>number_diagnoses</th>\n",
       "      <th>A1Cresult</th>\n",
       "      <th>insulin</th>\n",
       "      <th>change</th>\n",
       "      <th>diabetesMed</th>\n",
       "    </tr>\n",
       "  </thead>\n",
       "  <tbody>\n",
       "    <tr>\n",
       "      <th>0</th>\n",
       "      <td>0</td>\n",
       "      <td>0</td>\n",
       "      <td>0</td>\n",
       "      <td>6</td>\n",
       "      <td>25</td>\n",
       "      <td>1</td>\n",
       "      <td>1</td>\n",
       "      <td>18</td>\n",
       "      <td>41</td>\n",
       "      <td>0</td>\n",
       "      <td>...</td>\n",
       "      <td>0</td>\n",
       "      <td>0</td>\n",
       "      <td>1</td>\n",
       "      <td>0</td>\n",
       "      <td>0</td>\n",
       "      <td>1</td>\n",
       "      <td>0</td>\n",
       "      <td>0</td>\n",
       "      <td>0</td>\n",
       "      <td>0</td>\n",
       "    </tr>\n",
       "    <tr>\n",
       "      <th>1</th>\n",
       "      <td>0</td>\n",
       "      <td>0</td>\n",
       "      <td>0</td>\n",
       "      <td>1</td>\n",
       "      <td>1</td>\n",
       "      <td>7</td>\n",
       "      <td>3</td>\n",
       "      <td>0</td>\n",
       "      <td>59</td>\n",
       "      <td>0</td>\n",
       "      <td>...</td>\n",
       "      <td>0</td>\n",
       "      <td>0</td>\n",
       "      <td>0</td>\n",
       "      <td>1</td>\n",
       "      <td>0</td>\n",
       "      <td>9</td>\n",
       "      <td>0</td>\n",
       "      <td>1</td>\n",
       "      <td>1</td>\n",
       "      <td>1</td>\n",
       "    </tr>\n",
       "    <tr>\n",
       "      <th>2</th>\n",
       "      <td>2</td>\n",
       "      <td>0</td>\n",
       "      <td>0</td>\n",
       "      <td>1</td>\n",
       "      <td>1</td>\n",
       "      <td>7</td>\n",
       "      <td>2</td>\n",
       "      <td>0</td>\n",
       "      <td>11</td>\n",
       "      <td>5</td>\n",
       "      <td>...</td>\n",
       "      <td>0</td>\n",
       "      <td>1</td>\n",
       "      <td>0</td>\n",
       "      <td>1</td>\n",
       "      <td>0</td>\n",
       "      <td>6</td>\n",
       "      <td>0</td>\n",
       "      <td>0</td>\n",
       "      <td>0</td>\n",
       "      <td>1</td>\n",
       "    </tr>\n",
       "    <tr>\n",
       "      <th>3</th>\n",
       "      <td>0</td>\n",
       "      <td>1</td>\n",
       "      <td>0</td>\n",
       "      <td>1</td>\n",
       "      <td>1</td>\n",
       "      <td>7</td>\n",
       "      <td>2</td>\n",
       "      <td>0</td>\n",
       "      <td>44</td>\n",
       "      <td>1</td>\n",
       "      <td>...</td>\n",
       "      <td>0</td>\n",
       "      <td>0</td>\n",
       "      <td>0</td>\n",
       "      <td>1</td>\n",
       "      <td>0</td>\n",
       "      <td>7</td>\n",
       "      <td>0</td>\n",
       "      <td>1</td>\n",
       "      <td>1</td>\n",
       "      <td>1</td>\n",
       "    </tr>\n",
       "    <tr>\n",
       "      <th>4</th>\n",
       "      <td>0</td>\n",
       "      <td>1</td>\n",
       "      <td>0</td>\n",
       "      <td>1</td>\n",
       "      <td>1</td>\n",
       "      <td>7</td>\n",
       "      <td>1</td>\n",
       "      <td>0</td>\n",
       "      <td>51</td>\n",
       "      <td>0</td>\n",
       "      <td>...</td>\n",
       "      <td>0</td>\n",
       "      <td>0</td>\n",
       "      <td>0</td>\n",
       "      <td>0</td>\n",
       "      <td>1</td>\n",
       "      <td>5</td>\n",
       "      <td>0</td>\n",
       "      <td>1</td>\n",
       "      <td>1</td>\n",
       "      <td>1</td>\n",
       "    </tr>\n",
       "  </tbody>\n",
       "</table>\n",
       "<p>5 rows × 22 columns</p>\n",
       "</div>"
      ],
      "text/plain": [
       "   race  gender  age  admission_type_id  discharge_disposition_id  \\\n",
       "0     0       0    0                  6                        25   \n",
       "1     0       0    0                  1                         1   \n",
       "2     2       0    0                  1                         1   \n",
       "3     0       1    0                  1                         1   \n",
       "4     0       1    0                  1                         1   \n",
       "\n",
       "   admission_source_id  time_in_hospital  medical_specialty  \\\n",
       "0                    1                 1                 18   \n",
       "1                    7                 3                  0   \n",
       "2                    7                 2                  0   \n",
       "3                    7                 2                  0   \n",
       "4                    7                 1                  0   \n",
       "\n",
       "   num_lab_procedures  num_procedures     ...       number_emergency  \\\n",
       "0                  41               0     ...                      0   \n",
       "1                  59               0     ...                      0   \n",
       "2                  11               5     ...                      0   \n",
       "3                  44               1     ...                      0   \n",
       "4                  51               0     ...                      0   \n",
       "\n",
       "   number_inpatient  diag_1  diag_2  diag_3  number_diagnoses  A1Cresult  \\\n",
       "0                 0       1       0       0                 1          0   \n",
       "1                 0       0       1       0                 9          0   \n",
       "2                 1       0       1       0                 6          0   \n",
       "3                 0       0       1       0                 7          0   \n",
       "4                 0       0       0       1                 5          0   \n",
       "\n",
       "   insulin  change  diabetesMed  \n",
       "0        0       0            0  \n",
       "1        1       1            1  \n",
       "2        0       0            1  \n",
       "3        1       1            1  \n",
       "4        1       1            1  \n",
       "\n",
       "[5 rows x 22 columns]"
      ]
     },
     "execution_count": 59,
     "metadata": {},
     "output_type": "execute_result"
    }
   ],
   "source": [
    "data = pd.read_csv('clean_new_data.csv')\n",
    "#data = data.sample(frac=1)\n",
    "label = data['readmitted']\n",
    "print data.keys()\n",
    "del data['readmitted']\n",
    "#del data['race']\n",
    "#del data['gender']\n",
    "#del data['A1Cresult']\n",
    "#del data['number_outpatient']\n",
    "#del data['number_emergency']\n",
    "#del data['change']\n",
    "#del data['diabetesMed']\n",
    "#del data['number_inpatient']\n",
    "#del data['admission_source_id']\n",
    "#print data.keys()\n",
    "#print label.head()\n",
    "data.head()"
   ]
  },
  {
   "cell_type": "code",
   "execution_count": 60,
   "metadata": {},
   "outputs": [
    {
     "name": "stdout",
     "output_type": "stream",
     "text": [
      "(69973, 22)\n",
      "(69973,)\n",
      "(49995, 15) (19978, 15) (49995,) (19978,)\n",
      "(array([0, 1]), array([11896,  8082]))\n"
     ]
    }
   ],
   "source": [
    "X = data.as_matrix()\n",
    "y = label.as_matrix()\n",
    "print X.shape\n",
    "print y.shape\n",
    "'''from sklearn.feature_selection import SelectKBest\n",
    "selkbest = SelectKBest(k=12)\n",
    "selkbest.fit(X,y)\n",
    "X = selkbest.transform(X)'''\n",
    "'''from sklearn.model_selection import KFold\n",
    "kf = KFold(n_splits=2,shuffle=True)\n",
    "kf.get_n_splits(X)\n",
    "\n",
    "print(kf)  \n",
    "\n",
    "for train_index, test_index in kf.split(X):\n",
    "    print(\"TRAIN:\", train_index, \"TEST:\", test_index)\n",
    "    X_train, X_test = X[train_index], X[test_index]\n",
    "    y_train, y_test = y[train_index], y[test_index]'''\n",
    "from sklearn.decomposition import PCA\n",
    "pca = PCA(n_components=15)\n",
    "pca.fit(X)\n",
    "X = pca.transform(X)\n",
    "from sklearn.model_selection import train_test_split\n",
    "X_train, X_test, y_train, y_test = train_test_split(  X, y, test_size=0.28551, random_state=42)\n",
    "print X_train.shape, X_test.shape, y_train.shape, y_test.shape\n",
    "print np.unique(y_test,return_counts=True)"
   ]
  },
  {
   "cell_type": "code",
   "execution_count": 61,
   "metadata": {},
   "outputs": [
    {
     "name": "stdout",
     "output_type": "stream",
     "text": [
      "0.624319076538\n",
      "0.00147485733032\n"
     ]
    },
    {
     "data": {
      "text/plain": [
       "0.62008209029932926"
      ]
     },
     "execution_count": 61,
     "metadata": {},
     "output_type": "execute_result"
    }
   ],
   "source": [
    "from sklearn.metrics import accuracy_score\n",
    "import time\n",
    "clf = LogisticRegression(C=0.1)\n",
    "old_ticks = time.time()\n",
    "clf.fit(X_train,y_train)\n",
    "new_ticks = time.time()\n",
    "print new_ticks - old_ticks\n",
    "old_ticks = time.time()\n",
    "pred = clf.predict(X_test)\n",
    "new_ticks = time.time()\n",
    "print new_ticks - old_ticks\n",
    "accuracy_score(pred,y_test)"
   ]
  },
  {
   "cell_type": "code",
   "execution_count": 62,
   "metadata": {},
   "outputs": [
    {
     "name": "stdout",
     "output_type": "stream",
     "text": [
      "1.50737404823\n",
      "0.00322103500366\n"
     ]
    },
    {
     "data": {
      "text/plain": [
       "0.61732906196816495"
      ]
     },
     "execution_count": 62,
     "metadata": {},
     "output_type": "execute_result"
    }
   ],
   "source": [
    "clf1 = tree.DecisionTreeClassifier(criterion='gini',min_samples_split=1500,min_samples_leaf=2,min_impurity_split=0.0001)\n",
    "old_ticks = time.time()\n",
    "clf1.fit(X_train,y_train)\n",
    "new_ticks = time.time()\n",
    "print new_ticks - old_ticks\n",
    "old_ticks = time.time()\n",
    "pred1 = clf1.predict(X_test)\n",
    "new_ticks = time.time()\n",
    "print new_ticks - old_ticks\n",
    "accuracy_score(pred1,y_test)"
   ]
  },
  {
   "cell_type": "code",
   "execution_count": 63,
   "metadata": {},
   "outputs": [
    {
     "name": "stdout",
     "output_type": "stream",
     "text": [
      "0.0346808433533\n",
      "0.0119619369507\n"
     ]
    },
    {
     "data": {
      "text/plain": [
       "0.62043247572329563"
      ]
     },
     "execution_count": 63,
     "metadata": {},
     "output_type": "execute_result"
    }
   ],
   "source": [
    "clf2 = GaussianNB()\n",
    "old_ticks = time.time()\n",
    "clf2.fit(X_train,y_train)\n",
    "new_ticks = time.time()\n",
    "print new_ticks - old_ticks\n",
    "old_ticks = time.time()\n",
    "pred2 = clf2.predict(X_test)\n",
    "new_ticks = time.time()\n",
    "print new_ticks - old_ticks\n",
    "accuracy_score(pred2,y_test)"
   ]
  },
  {
   "cell_type": "code",
   "execution_count": 64,
   "metadata": {},
   "outputs": [
    {
     "name": "stdout",
     "output_type": "stream",
     "text": [
      "6.67035794258\n",
      "0.156646966934\n"
     ]
    },
    {
     "data": {
      "text/plain": [
       "0.62133346681349488"
      ]
     },
     "execution_count": 64,
     "metadata": {},
     "output_type": "execute_result"
    }
   ],
   "source": [
    "clf2 = RandomForestClassifier(n_estimators=20,min_samples_split=100,min_samples_leaf=2)\n",
    "old_ticks = time.time()\n",
    "clf2.fit(X_train,y_train)\n",
    "new_ticks = time.time()\n",
    "print new_ticks - old_ticks\n",
    "old_ticks = time.time()\n",
    "pred2 = clf2.predict(X_test)\n",
    "new_ticks = time.time()\n",
    "print new_ticks - old_ticks\n",
    "accuracy_score(pred2,y_test)"
   ]
  },
  {
   "cell_type": "code",
   "execution_count": 65,
   "metadata": {},
   "outputs": [
    {
     "data": {
      "text/plain": [
       "'from sklearn.ensemble import GradientBoostingRegressor\\nparams = {\\'n_estimators\\': 500, \\'max_depth\\': 4, \\'min_samples_split\\': 2,\\n          \\'learning_rate\\': 0.01, \\'loss\\': \\'ls\\'}\\nclf = GradientBoostingRegressor(**params)\\n\\nclf.fit(X_train, y_train)\\n\\npred = clf.predict(X_test)\\nprint len(pred)\\nfrom sklearn.metrics import mean_squared_error \\nmse = mean_squared_error(y_test, clf.predict(X_test))\\nprint(\"MSE: %.4f\" % mse)'"
      ]
     },
     "execution_count": 65,
     "metadata": {},
     "output_type": "execute_result"
    }
   ],
   "source": [
    "'''from sklearn.ensemble import GradientBoostingRegressor\n",
    "params = {'n_estimators': 500, 'max_depth': 4, 'min_samples_split': 2,\n",
    "          'learning_rate': 0.01, 'loss': 'ls'}\n",
    "clf = GradientBoostingRegressor(**params)\n",
    "\n",
    "clf.fit(X_train, y_train)\n",
    "\n",
    "pred = clf.predict(X_test)\n",
    "print len(pred)\n",
    "from sklearn.metrics import mean_squared_error \n",
    "mse = mean_squared_error(y_test, clf.predict(X_test))\n",
    "print(\"MSE: %.4f\" % mse)'''"
   ]
  },
  {
   "cell_type": "code",
   "execution_count": 66,
   "metadata": {},
   "outputs": [
    {
     "data": {
      "text/plain": [
       "'print pred[:5]\\nprint pred.shape\\nans = pred>0.5\\nans = ans.astype(int)\\nans\\nfrom sklearn.metrics import accuracy_score\\naccuracy_score(ans,y_test)'"
      ]
     },
     "execution_count": 66,
     "metadata": {},
     "output_type": "execute_result"
    }
   ],
   "source": [
    "'''print pred[:5]\n",
    "print pred.shape\n",
    "ans = pred>0.5\n",
    "ans = ans.astype(int)\n",
    "ans\n",
    "from sklearn.metrics import accuracy_score\n",
    "accuracy_score(ans,y_test)'''"
   ]
  },
  {
   "cell_type": "code",
   "execution_count": 67,
   "metadata": {},
   "outputs": [
    {
     "data": {
      "text/plain": [
       "'import matplotlib.pyplot as plt\\nplt.scatter(y_test,pred)\\nplt.show()'"
      ]
     },
     "execution_count": 67,
     "metadata": {},
     "output_type": "execute_result"
    }
   ],
   "source": [
    "'''import matplotlib.pyplot as plt\n",
    "plt.scatter(y_test,pred)\n",
    "plt.show()'''"
   ]
  },
  {
   "cell_type": "code",
   "execution_count": 68,
   "metadata": {},
   "outputs": [
    {
     "data": {
      "text/plain": [
       "'from sklearn.metrics import roc_auc_score\\nroc_auc_score(y_test, ans)'"
      ]
     },
     "execution_count": 68,
     "metadata": {},
     "output_type": "execute_result"
    }
   ],
   "source": [
    "'''from sklearn.metrics import roc_auc_score\n",
    "roc_auc_score(y_test, ans)'''"
   ]
  },
  {
   "cell_type": "code",
   "execution_count": 69,
   "metadata": {},
   "outputs": [
    {
     "name": "stdout",
     "output_type": "stream",
     "text": [
      "(49995, 2)\n",
      "(19978, 2)\n"
     ]
    }
   ],
   "source": [
    "y_t = []\n",
    "for k in y_train:\n",
    "    ys = [0,0]\n",
    "    ys[k] = 1\n",
    "    y_t.append(ys)\n",
    "\n",
    "y_te = []\n",
    "for k in y_test:\n",
    "    ys = [0,0]\n",
    "    ys[k] = 1\n",
    "    y_te.append(ys)\n",
    "y_t = np.array(y_t)\n",
    "y_te = np.array(y_te)\n",
    "print y_t.shape\n",
    "print y_te.shape"
   ]
  },
  {
   "cell_type": "code",
   "execution_count": 77,
   "metadata": {},
   "outputs": [
    {
     "name": "stdout",
     "output_type": "stream",
     "text": [
      "('Epoch', 0, 'completed out of', 201, 'loss:', 643.6204993724823)\n",
      "('Epoch', 100, 'completed out of', 201, 'loss:', 327.75571942329407)\n",
      "('Epoch', 200, 'completed out of', 201, 'loss:', 326.89595127105713)\n",
      "('Accuracy:', 0.62478727)\n"
     ]
    }
   ],
   "source": [
    "import tensorflow as tf\n",
    "#from tensorflow.examples.tutorials.mnist import input_data\n",
    "#mnist = input_data.read_data_sets(\"/tmp/data/\", one_hot = True)\n",
    "\n",
    "n_nodes_hl1 = 10\n",
    "#n_nodes_hl2 = 5\n",
    "#n_nodes_hl3 = 5\n",
    "\n",
    "n_classes = 2\n",
    "batch_size = 99\n",
    "\n",
    "x = tf.placeholder('float', [None, X_test.shape[1]])\n",
    "y = tf.placeholder('float')\n",
    "\n",
    "def neural_network_model(data):\n",
    "    hidden_1_layer = {'weights':tf.Variable(tf.random_normal([X_test.shape[1], n_nodes_hl1])),\n",
    "                      'biases':tf.Variable(tf.random_normal([n_nodes_hl1]))}\n",
    "    #hidden_2_layer = {'weights':tf.Variable(tf.random_normal([n_nodes_hl1, n_nodes_hl2])),\n",
    "                      #'biases':tf.Variable(tf.random_normal([n_nodes_hl2]))}\n",
    "    #hidden_3_layer = {'weights':tf.Variable(tf.random_normal([n_nodes_hl2, n_nodes_hl3])),\n",
    "                      #'biases':tf.Variable(tf.random_normal([n_nodes_hl3]))}\n",
    "    output_layer = {'weights':tf.Variable(tf.random_normal([n_nodes_hl1, n_classes])),\n",
    "                    'biases':tf.Variable(tf.random_normal([n_classes])),}\n",
    "\n",
    "\n",
    "    l1 = tf.add(tf.matmul(data,hidden_1_layer['weights']), hidden_1_layer['biases'])\n",
    "    l1 = tf.nn.relu(l1)\n",
    "    #l2 = tf.add(tf.matmul(l1,hidden_2_layer['weights']), hidden_2_layer['biases'])\n",
    "    #l2 = tf.nn.relu(l2)\n",
    "    #l3 = tf.add(tf.matmul(l2,hidden_3_layer['weights']), hidden_3_layer['biases'])\n",
    "    #l3 = tf.nn.relu(l3)\n",
    "    output = tf.matmul(l1,output_layer['weights']) + output_layer['biases']\n",
    "    \n",
    "    return output\n",
    "\n",
    "def train_neural_network(x):\n",
    "    prediction = neural_network_model(x)\n",
    "    # OLD VERSION:\n",
    "    #cost = tf.reduce_mean( tf.nn.softmax_cross_entropy_with_logits(prediction,y) )\n",
    "    # NEW:\n",
    "    cost = tf.reduce_mean( tf.nn.softmax_cross_entropy_with_logits(logits=prediction, labels=y) )\n",
    "    optimizer = tf.train.GradientDescentOptimizer(learning_rate=0.1).minimize(cost)\n",
    "    \n",
    "    hm_epochs = 201\n",
    "    with tf.Session() as sess:\n",
    "        # OLD:\n",
    "        #sess.run(tf.initialize_all_variables())\n",
    "        # NEW:\n",
    "        sess.run(tf.global_variables_initializer())\n",
    "\n",
    "        for epoch in range(hm_epochs):\n",
    "            epoch_loss = 0\n",
    "            i = 0\n",
    "            while i < len(X_train):\n",
    "                start = i\n",
    "                end = i+batch_size\n",
    "                batch_x = np.array(X_train[start:end])\n",
    "                batch_y = np.array(y_t[start:end])\n",
    "                _, c = sess.run([optimizer, cost], feed_dict={x: batch_x, y: batch_y})\n",
    "                epoch_loss += c\n",
    "                i+=batch_size\n",
    "            if epoch%100==0:\n",
    "                print('Epoch', epoch, 'completed out of',hm_epochs,'loss:',epoch_loss)\n",
    "\n",
    "        correct = tf.equal(tf.argmax(prediction, 1), tf.argmax(y, 1))\n",
    "\n",
    "        accuracy = tf.reduce_mean(tf.cast(correct, 'float'))\n",
    "        print('Accuracy:',accuracy.eval({x:X_test, y:y_te}))\n",
    "\n",
    "train_neural_network(x)"
   ]
  },
  {
   "cell_type": "code",
   "execution_count": 80,
   "metadata": {},
   "outputs": [
    {
     "name": "stdout",
     "output_type": "stream",
     "text": [
      "('Epoch', 0, 'completed out of', 501, 'loss:', 32.413463592529297)\n",
      "('Epoch', 100, 'completed out of', 501, 'loss:', 3.6065718619424686e+18)\n",
      "('Epoch', 200, 'completed out of', 501, 'loss:', nan)\n",
      "('Epoch', 300, 'completed out of', 501, 'loss:', nan)\n",
      "('Epoch', 400, 'completed out of', 501, 'loss:', nan)\n",
      "('Epoch', 500, 'completed out of', 501, 'loss:', nan)\n",
      "('Accuracy:', 0.59545499)\n",
      "(array([0]), array([19978]))\n"
     ]
    }
   ],
   "source": [
    "import tensorflow as tf\n",
    "#from tensorflow.examples.tutorials.mnist import input_data\n",
    "#mnist = input_data.read_data_sets(\"/tmp/data/\", one_hot = True)\n",
    "\n",
    "n_nodes_hl1 = 15\n",
    "#n_nodes_hl2 = 10\n",
    "#n_nodes_hl3 = 10\n",
    "\n",
    "n_classes = 2\n",
    "batch_size = 99\n",
    "\n",
    "x = tf.placeholder('float', [None, X_test.shape[1]])\n",
    "y = tf.placeholder('float')\n",
    "\n",
    "def neural_network_model(data):\n",
    "    hidden_1_layer = {'weights':tf.Variable(tf.random_normal([X_test.shape[1], n_nodes_hl1])),\n",
    "                      'biases':tf.Variable(tf.random_normal([n_nodes_hl1]))}\n",
    "    #hidden_2_layer = {'weights':tf.Variable(tf.random_normal([n_nodes_hl1, n_nodes_hl2])),\n",
    "                      #'biases':tf.Variable(tf.random_normal([n_nodes_hl2]))}\n",
    "    #hidden_3_layer = {'weights':tf.Variable(tf.random_normal([n_nodes_hl2, n_nodes_hl3])),\n",
    "                      #'biases':tf.Variable(tf.random_normal([n_nodes_hl3]))}\n",
    "    output_layer = {'weights':tf.Variable(tf.random_normal([n_nodes_hl1, n_classes])),\n",
    "                    'biases':tf.Variable(tf.random_normal([n_classes])),}\n",
    "\n",
    "\n",
    "    l1 = tf.add(tf.matmul(data,hidden_1_layer['weights']), hidden_1_layer['biases'])\n",
    "    l1 = tf.nn.relu(l1)\n",
    "    #l2 = tf.add(tf.matmul(l1,hidden_2_layer['weights']), hidden_2_layer['biases'])\n",
    "    #l2 = tf.nn.relu(l2)\n",
    "    #l3 = tf.add(tf.matmul(l2,hidden_3_layer['weights']), hidden_3_layer['biases'])\n",
    "    #l3 = tf.nn.relu(l3)\n",
    "    output = tf.matmul(l1,output_layer['weights']) + output_layer['biases']\n",
    "\n",
    "    return output\n",
    "\n",
    "def train_neural_network(x):\n",
    "    prediction = neural_network_model(x)\n",
    "    # OLD VERSION:\n",
    "    #cost = tf.reduce_mean( tf.nn.softmax_cross_entropy_with_logits(prediction,y) )\n",
    "    # NEW:\n",
    "    cost = tf.reduce_mean( tf.nn.softmax_cross_entropy_with_logits(logits=prediction, labels=y) )\n",
    "    optimizer = tf.train.GradientDescentOptimizer(learning_rate=0.3).minimize(cost)\n",
    "    \n",
    "    hm_epochs = 501\n",
    "    with tf.Session() as sess:\n",
    "        # OLD:\n",
    "        #sess.run(tf.initialize_all_variables())\n",
    "        # NEW:\n",
    "        sess.run(tf.global_variables_initializer())\n",
    "\n",
    "        for epoch in range(hm_epochs):\n",
    "            epoch_loss = 0\n",
    "            _, c = sess.run([optimizer, cost], feed_dict={x: X_train, y: y_t})\n",
    "            epoch_loss += c\n",
    "            if epoch%100==0:\n",
    "                print('Epoch', epoch, 'completed out of',hm_epochs,'loss:',epoch_loss)\n",
    "\n",
    "        correct = tf.equal(tf.argmax(prediction, 1), tf.argmax(y, 1))\n",
    "        #c = sess.run(correct,feed_dict={x:X_test})\n",
    "        #print c\n",
    "        #plt.hist(list(c))\n",
    "        #print plt.show()\n",
    "        accuracy = tf.reduce_mean(tf.cast(correct, 'float'))\n",
    "        print('Accuracy:',accuracy.eval({x:X_test, y:y_te}))\n",
    "        pred = sess.run(prediction,feed_dict={x:X_test})\n",
    "        corr = tf.argmax(pred,1)\n",
    "        c = sess.run(corr)\n",
    "        c = np.array(c)\n",
    "        print np.unique(c,return_counts=True)\n",
    "\n",
    "train_neural_network(x)"
   ]
  }
 ],
 "metadata": {
  "kernelspec": {
   "display_name": "Python 2",
   "language": "python",
   "name": "python2"
  },
  "language_info": {
   "codemirror_mode": {
    "name": "ipython",
    "version": 2
   },
   "file_extension": ".py",
   "mimetype": "text/x-python",
   "name": "python",
   "nbconvert_exporter": "python",
   "pygments_lexer": "ipython2",
   "version": "2.7.6"
  }
 },
 "nbformat": 4,
 "nbformat_minor": 2
}
