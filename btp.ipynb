{
 "cells": [
  {
   "cell_type": "code",
   "execution_count": 1567,
   "metadata": {
    "collapsed": false
   },
   "outputs": [],
   "source": [
    "import numpy as np # linear algebra\n",
    "import pandas as pd # data processing, CSV file I/O (e.g. pd.read_csv)\n",
    "import seaborn as sns\n",
    "from scipy.stats import norm\n",
    "from scipy import stats\n",
    "import matplotlib.pyplot as plt\n",
    "from sklearn.model_selection import train_test_split\n",
    "from ggplot import *\n",
    "from numpy import exp, array, random, dot"
   ]
  },
  {
   "cell_type": "code",
   "execution_count": 1568,
   "metadata": {
    "collapsed": false
   },
   "outputs": [
    {
     "data": {
      "text/html": [
       "<div>\n",
       "<table border=\"1\" class=\"dataframe\">\n",
       "  <thead>\n",
       "    <tr style=\"text-align: right;\">\n",
       "      <th></th>\n",
       "      <th>aa</th>\n",
       "      <th>aa.1</th>\n",
       "      <th>aa.2</th>\n",
       "      <th>aa.3</th>\n",
       "      <th>aa.4</th>\n",
       "      <th>aa.5</th>\n",
       "      <th>aa.6</th>\n",
       "      <th>aa.7</th>\n",
       "      <th>aa.8</th>\n",
       "      <th>aa.9</th>\n",
       "      <th>...</th>\n",
       "      <th>aa.270</th>\n",
       "      <th>aa.271</th>\n",
       "      <th>aa.272</th>\n",
       "      <th>aa.273</th>\n",
       "      <th>aa.274</th>\n",
       "      <th>aa.275</th>\n",
       "      <th>aa.276</th>\n",
       "      <th>aa.277</th>\n",
       "      <th>aa.278</th>\n",
       "      <th>label</th>\n",
       "    </tr>\n",
       "  </thead>\n",
       "  <tbody>\n",
       "    <tr>\n",
       "      <th>0</th>\n",
       "      <td>48</td>\n",
       "      <td>0</td>\n",
       "      <td>162</td>\n",
       "      <td>84</td>\n",
       "      <td>80</td>\n",
       "      <td>154</td>\n",
       "      <td>354</td>\n",
       "      <td>171</td>\n",
       "      <td>85</td>\n",
       "      <td>39</td>\n",
       "      <td>...</td>\n",
       "      <td>0.0</td>\n",
       "      <td>7.8</td>\n",
       "      <td>-1.2</td>\n",
       "      <td>0.0</td>\n",
       "      <td>0</td>\n",
       "      <td>0.8</td>\n",
       "      <td>1.1</td>\n",
       "      <td>14.0</td>\n",
       "      <td>23.6</td>\n",
       "      <td>1</td>\n",
       "    </tr>\n",
       "    <tr>\n",
       "      <th>1</th>\n",
       "      <td>49</td>\n",
       "      <td>1</td>\n",
       "      <td>168</td>\n",
       "      <td>66</td>\n",
       "      <td>94</td>\n",
       "      <td>170</td>\n",
       "      <td>383</td>\n",
       "      <td>152</td>\n",
       "      <td>115</td>\n",
       "      <td>92</td>\n",
       "      <td>...</td>\n",
       "      <td>0.0</td>\n",
       "      <td>8.2</td>\n",
       "      <td>-0.7</td>\n",
       "      <td>0.0</td>\n",
       "      <td>0</td>\n",
       "      <td>0.8</td>\n",
       "      <td>1.7</td>\n",
       "      <td>21.5</td>\n",
       "      <td>33.7</td>\n",
       "      <td>1</td>\n",
       "    </tr>\n",
       "    <tr>\n",
       "      <th>2</th>\n",
       "      <td>11</td>\n",
       "      <td>0</td>\n",
       "      <td>140</td>\n",
       "      <td>42</td>\n",
       "      <td>88</td>\n",
       "      <td>123</td>\n",
       "      <td>362</td>\n",
       "      <td>228</td>\n",
       "      <td>81</td>\n",
       "      <td>-18</td>\n",
       "      <td>...</td>\n",
       "      <td>0.0</td>\n",
       "      <td>17.1</td>\n",
       "      <td>-7.1</td>\n",
       "      <td>0.0</td>\n",
       "      <td>0</td>\n",
       "      <td>0.7</td>\n",
       "      <td>5.5</td>\n",
       "      <td>15.1</td>\n",
       "      <td>84.4</td>\n",
       "      <td>10</td>\n",
       "    </tr>\n",
       "    <tr>\n",
       "      <th>3</th>\n",
       "      <td>47</td>\n",
       "      <td>0</td>\n",
       "      <td>176</td>\n",
       "      <td>95</td>\n",
       "      <td>80</td>\n",
       "      <td>168</td>\n",
       "      <td>368</td>\n",
       "      <td>184</td>\n",
       "      <td>93</td>\n",
       "      <td>73</td>\n",
       "      <td>...</td>\n",
       "      <td>0.0</td>\n",
       "      <td>10.4</td>\n",
       "      <td>-1.1</td>\n",
       "      <td>0.0</td>\n",
       "      <td>0</td>\n",
       "      <td>0.6</td>\n",
       "      <td>2.8</td>\n",
       "      <td>25.1</td>\n",
       "      <td>49.7</td>\n",
       "      <td>10</td>\n",
       "    </tr>\n",
       "    <tr>\n",
       "      <th>4</th>\n",
       "      <td>40</td>\n",
       "      <td>0</td>\n",
       "      <td>170</td>\n",
       "      <td>68</td>\n",
       "      <td>93</td>\n",
       "      <td>151</td>\n",
       "      <td>382</td>\n",
       "      <td>266</td>\n",
       "      <td>100</td>\n",
       "      <td>48</td>\n",
       "      <td>...</td>\n",
       "      <td>0.0</td>\n",
       "      <td>8.2</td>\n",
       "      <td>0.0</td>\n",
       "      <td>0.0</td>\n",
       "      <td>0</td>\n",
       "      <td>0.8</td>\n",
       "      <td>1.5</td>\n",
       "      <td>24.6</td>\n",
       "      <td>42.0</td>\n",
       "      <td>3</td>\n",
       "    </tr>\n",
       "  </tbody>\n",
       "</table>\n",
       "<p>5 rows × 280 columns</p>\n",
       "</div>"
      ],
      "text/plain": [
       "   aa  aa.1  aa.2  aa.3  aa.4  aa.5  aa.6  aa.7  aa.8  aa.9  ...    aa.270  \\\n",
       "0  48     0   162    84    80   154   354   171    85    39  ...       0.0   \n",
       "1  49     1   168    66    94   170   383   152   115    92  ...       0.0   \n",
       "2  11     0   140    42    88   123   362   228    81   -18  ...       0.0   \n",
       "3  47     0   176    95    80   168   368   184    93    73  ...       0.0   \n",
       "4  40     0   170    68    93   151   382   266   100    48  ...       0.0   \n",
       "\n",
       "   aa.271  aa.272  aa.273  aa.274  aa.275  aa.276  aa.277  aa.278  label  \n",
       "0     7.8    -1.2     0.0       0     0.8     1.1    14.0    23.6      1  \n",
       "1     8.2    -0.7     0.0       0     0.8     1.7    21.5    33.7      1  \n",
       "2    17.1    -7.1     0.0       0     0.7     5.5    15.1    84.4     10  \n",
       "3    10.4    -1.1     0.0       0     0.6     2.8    25.1    49.7     10  \n",
       "4     8.2     0.0     0.0       0     0.8     1.5    24.6    42.0      3  \n",
       "\n",
       "[5 rows x 280 columns]"
      ]
     },
     "execution_count": 1568,
     "metadata": {},
     "output_type": "execute_result"
    }
   ],
   "source": [
    "data = pd.read_csv('yoyoy.csv')\n",
    "#print data.head()\n",
    "#data = data.sample(frac=1)\n",
    "#print data.head()\n",
    "data.head()"
   ]
  },
  {
   "cell_type": "code",
   "execution_count": 1569,
   "metadata": {
    "collapsed": false
   },
   "outputs": [
    {
     "data": {
      "text/plain": [
       "\"for var in data:\\n    print var\\n    plt.scatter( data[var],data['label'],  c='r')\\n    plt.show()\""
      ]
     },
     "execution_count": 1569,
     "metadata": {},
     "output_type": "execute_result"
    }
   ],
   "source": [
    "#data.to_csv(\"yoyoy.csv\",index=False)\n",
    "'''for var in data:\n",
    "    print var\n",
    "    plt.scatter( data[var],data['label'],  c='r')\n",
    "    plt.show()'''"
   ]
  },
  {
   "cell_type": "code",
   "execution_count": 1570,
   "metadata": {
    "collapsed": false
   },
   "outputs": [
    {
     "data": {
      "text/html": [
       "<div>\n",
       "<table border=\"1\" class=\"dataframe\">\n",
       "  <thead>\n",
       "    <tr style=\"text-align: right;\">\n",
       "      <th></th>\n",
       "      <th>aa</th>\n",
       "      <th>aa.1</th>\n",
       "      <th>aa.2</th>\n",
       "      <th>aa.3</th>\n",
       "      <th>aa.4</th>\n",
       "      <th>aa.5</th>\n",
       "      <th>aa.6</th>\n",
       "      <th>aa.7</th>\n",
       "      <th>aa.8</th>\n",
       "      <th>aa.9</th>\n",
       "      <th>...</th>\n",
       "      <th>aa.269</th>\n",
       "      <th>aa.270</th>\n",
       "      <th>aa.271</th>\n",
       "      <th>aa.272</th>\n",
       "      <th>aa.273</th>\n",
       "      <th>aa.274</th>\n",
       "      <th>aa.275</th>\n",
       "      <th>aa.276</th>\n",
       "      <th>aa.277</th>\n",
       "      <th>aa.278</th>\n",
       "    </tr>\n",
       "  </thead>\n",
       "  <tbody>\n",
       "    <tr>\n",
       "      <th>0</th>\n",
       "      <td>48</td>\n",
       "      <td>0</td>\n",
       "      <td>162</td>\n",
       "      <td>84</td>\n",
       "      <td>80</td>\n",
       "      <td>154</td>\n",
       "      <td>354</td>\n",
       "      <td>171</td>\n",
       "      <td>85</td>\n",
       "      <td>39</td>\n",
       "      <td>...</td>\n",
       "      <td>0.1</td>\n",
       "      <td>0.0</td>\n",
       "      <td>7.8</td>\n",
       "      <td>-1.2</td>\n",
       "      <td>0.0</td>\n",
       "      <td>0</td>\n",
       "      <td>0.8</td>\n",
       "      <td>1.1</td>\n",
       "      <td>14.0</td>\n",
       "      <td>23.6</td>\n",
       "    </tr>\n",
       "    <tr>\n",
       "      <th>1</th>\n",
       "      <td>49</td>\n",
       "      <td>1</td>\n",
       "      <td>168</td>\n",
       "      <td>66</td>\n",
       "      <td>94</td>\n",
       "      <td>170</td>\n",
       "      <td>383</td>\n",
       "      <td>152</td>\n",
       "      <td>115</td>\n",
       "      <td>92</td>\n",
       "      <td>...</td>\n",
       "      <td>-0.3</td>\n",
       "      <td>0.0</td>\n",
       "      <td>8.2</td>\n",
       "      <td>-0.7</td>\n",
       "      <td>0.0</td>\n",
       "      <td>0</td>\n",
       "      <td>0.8</td>\n",
       "      <td>1.7</td>\n",
       "      <td>21.5</td>\n",
       "      <td>33.7</td>\n",
       "    </tr>\n",
       "    <tr>\n",
       "      <th>2</th>\n",
       "      <td>11</td>\n",
       "      <td>0</td>\n",
       "      <td>140</td>\n",
       "      <td>42</td>\n",
       "      <td>88</td>\n",
       "      <td>123</td>\n",
       "      <td>362</td>\n",
       "      <td>228</td>\n",
       "      <td>81</td>\n",
       "      <td>-18</td>\n",
       "      <td>...</td>\n",
       "      <td>0.1</td>\n",
       "      <td>0.0</td>\n",
       "      <td>17.1</td>\n",
       "      <td>-7.1</td>\n",
       "      <td>0.0</td>\n",
       "      <td>0</td>\n",
       "      <td>0.7</td>\n",
       "      <td>5.5</td>\n",
       "      <td>15.1</td>\n",
       "      <td>84.4</td>\n",
       "    </tr>\n",
       "    <tr>\n",
       "      <th>3</th>\n",
       "      <td>47</td>\n",
       "      <td>0</td>\n",
       "      <td>176</td>\n",
       "      <td>95</td>\n",
       "      <td>80</td>\n",
       "      <td>168</td>\n",
       "      <td>368</td>\n",
       "      <td>184</td>\n",
       "      <td>93</td>\n",
       "      <td>73</td>\n",
       "      <td>...</td>\n",
       "      <td>-0.4</td>\n",
       "      <td>0.0</td>\n",
       "      <td>10.4</td>\n",
       "      <td>-1.1</td>\n",
       "      <td>0.0</td>\n",
       "      <td>0</td>\n",
       "      <td>0.6</td>\n",
       "      <td>2.8</td>\n",
       "      <td>25.1</td>\n",
       "      <td>49.7</td>\n",
       "    </tr>\n",
       "    <tr>\n",
       "      <th>4</th>\n",
       "      <td>40</td>\n",
       "      <td>0</td>\n",
       "      <td>170</td>\n",
       "      <td>68</td>\n",
       "      <td>93</td>\n",
       "      <td>151</td>\n",
       "      <td>382</td>\n",
       "      <td>266</td>\n",
       "      <td>100</td>\n",
       "      <td>48</td>\n",
       "      <td>...</td>\n",
       "      <td>-0.4</td>\n",
       "      <td>0.0</td>\n",
       "      <td>8.2</td>\n",
       "      <td>0.0</td>\n",
       "      <td>0.0</td>\n",
       "      <td>0</td>\n",
       "      <td>0.8</td>\n",
       "      <td>1.5</td>\n",
       "      <td>24.6</td>\n",
       "      <td>42.0</td>\n",
       "    </tr>\n",
       "  </tbody>\n",
       "</table>\n",
       "<p>5 rows × 279 columns</p>\n",
       "</div>"
      ],
      "text/plain": [
       "   aa  aa.1  aa.2  aa.3  aa.4  aa.5  aa.6  aa.7  aa.8  aa.9   ...    aa.269  \\\n",
       "0  48     0   162    84    80   154   354   171    85    39   ...       0.1   \n",
       "1  49     1   168    66    94   170   383   152   115    92   ...      -0.3   \n",
       "2  11     0   140    42    88   123   362   228    81   -18   ...       0.1   \n",
       "3  47     0   176    95    80   168   368   184    93    73   ...      -0.4   \n",
       "4  40     0   170    68    93   151   382   266   100    48   ...      -0.4   \n",
       "\n",
       "   aa.270  aa.271  aa.272  aa.273  aa.274  aa.275  aa.276  aa.277  aa.278  \n",
       "0     0.0     7.8    -1.2     0.0       0     0.8     1.1    14.0    23.6  \n",
       "1     0.0     8.2    -0.7     0.0       0     0.8     1.7    21.5    33.7  \n",
       "2     0.0    17.1    -7.1     0.0       0     0.7     5.5    15.1    84.4  \n",
       "3     0.0    10.4    -1.1     0.0       0     0.6     2.8    25.1    49.7  \n",
       "4     0.0     8.2     0.0     0.0       0     0.8     1.5    24.6    42.0  \n",
       "\n",
       "[5 rows x 279 columns]"
      ]
     },
     "execution_count": 1570,
     "metadata": {},
     "output_type": "execute_result"
    }
   ],
   "source": [
    "#data = data.dropna(axis=1,how='any')\n",
    "#data.to_csv('sd.csv',index=False)\n",
    "labels = data[\"label\"]\n",
    "del data[\"label\"]\n",
    "data.head()"
   ]
  },
  {
   "cell_type": "code",
   "execution_count": 1571,
   "metadata": {
    "collapsed": false
   },
   "outputs": [
    {
     "data": {
      "text/html": [
       "<div>\n",
       "<table border=\"1\" class=\"dataframe\">\n",
       "  <thead>\n",
       "    <tr style=\"text-align: right;\">\n",
       "      <th></th>\n",
       "      <th>aa</th>\n",
       "      <th>aa.1</th>\n",
       "      <th>aa.2</th>\n",
       "      <th>aa.3</th>\n",
       "      <th>aa.4</th>\n",
       "      <th>aa.5</th>\n",
       "      <th>aa.6</th>\n",
       "      <th>aa.7</th>\n",
       "      <th>aa.8</th>\n",
       "      <th>aa.9</th>\n",
       "      <th>...</th>\n",
       "      <th>aa.269</th>\n",
       "      <th>aa.270</th>\n",
       "      <th>aa.271</th>\n",
       "      <th>aa.272</th>\n",
       "      <th>aa.273</th>\n",
       "      <th>aa.274</th>\n",
       "      <th>aa.275</th>\n",
       "      <th>aa.276</th>\n",
       "      <th>aa.277</th>\n",
       "      <th>aa.278</th>\n",
       "    </tr>\n",
       "  </thead>\n",
       "  <tbody>\n",
       "    <tr>\n",
       "      <th>0</th>\n",
       "      <td>48</td>\n",
       "      <td>0</td>\n",
       "      <td>162</td>\n",
       "      <td>84</td>\n",
       "      <td>80</td>\n",
       "      <td>154</td>\n",
       "      <td>354</td>\n",
       "      <td>171</td>\n",
       "      <td>85</td>\n",
       "      <td>39</td>\n",
       "      <td>...</td>\n",
       "      <td>0.1</td>\n",
       "      <td>0.0</td>\n",
       "      <td>7.8</td>\n",
       "      <td>-1.2</td>\n",
       "      <td>0.0</td>\n",
       "      <td>0</td>\n",
       "      <td>0.8</td>\n",
       "      <td>1.1</td>\n",
       "      <td>14.0</td>\n",
       "      <td>23.6</td>\n",
       "    </tr>\n",
       "    <tr>\n",
       "      <th>1</th>\n",
       "      <td>49</td>\n",
       "      <td>1</td>\n",
       "      <td>168</td>\n",
       "      <td>66</td>\n",
       "      <td>94</td>\n",
       "      <td>170</td>\n",
       "      <td>383</td>\n",
       "      <td>152</td>\n",
       "      <td>115</td>\n",
       "      <td>92</td>\n",
       "      <td>...</td>\n",
       "      <td>-0.3</td>\n",
       "      <td>0.0</td>\n",
       "      <td>8.2</td>\n",
       "      <td>-0.7</td>\n",
       "      <td>0.0</td>\n",
       "      <td>0</td>\n",
       "      <td>0.8</td>\n",
       "      <td>1.7</td>\n",
       "      <td>21.5</td>\n",
       "      <td>33.7</td>\n",
       "    </tr>\n",
       "    <tr>\n",
       "      <th>2</th>\n",
       "      <td>11</td>\n",
       "      <td>0</td>\n",
       "      <td>140</td>\n",
       "      <td>42</td>\n",
       "      <td>88</td>\n",
       "      <td>123</td>\n",
       "      <td>362</td>\n",
       "      <td>228</td>\n",
       "      <td>81</td>\n",
       "      <td>-18</td>\n",
       "      <td>...</td>\n",
       "      <td>0.1</td>\n",
       "      <td>0.0</td>\n",
       "      <td>17.1</td>\n",
       "      <td>-7.1</td>\n",
       "      <td>0.0</td>\n",
       "      <td>0</td>\n",
       "      <td>0.7</td>\n",
       "      <td>5.5</td>\n",
       "      <td>15.1</td>\n",
       "      <td>84.4</td>\n",
       "    </tr>\n",
       "    <tr>\n",
       "      <th>3</th>\n",
       "      <td>47</td>\n",
       "      <td>0</td>\n",
       "      <td>176</td>\n",
       "      <td>95</td>\n",
       "      <td>80</td>\n",
       "      <td>168</td>\n",
       "      <td>368</td>\n",
       "      <td>184</td>\n",
       "      <td>93</td>\n",
       "      <td>73</td>\n",
       "      <td>...</td>\n",
       "      <td>-0.4</td>\n",
       "      <td>0.0</td>\n",
       "      <td>10.4</td>\n",
       "      <td>-1.1</td>\n",
       "      <td>0.0</td>\n",
       "      <td>0</td>\n",
       "      <td>0.6</td>\n",
       "      <td>2.8</td>\n",
       "      <td>25.1</td>\n",
       "      <td>49.7</td>\n",
       "    </tr>\n",
       "    <tr>\n",
       "      <th>4</th>\n",
       "      <td>40</td>\n",
       "      <td>0</td>\n",
       "      <td>170</td>\n",
       "      <td>68</td>\n",
       "      <td>93</td>\n",
       "      <td>151</td>\n",
       "      <td>382</td>\n",
       "      <td>266</td>\n",
       "      <td>100</td>\n",
       "      <td>48</td>\n",
       "      <td>...</td>\n",
       "      <td>-0.4</td>\n",
       "      <td>0.0</td>\n",
       "      <td>8.2</td>\n",
       "      <td>0.0</td>\n",
       "      <td>0.0</td>\n",
       "      <td>0</td>\n",
       "      <td>0.8</td>\n",
       "      <td>1.5</td>\n",
       "      <td>24.6</td>\n",
       "      <td>42.0</td>\n",
       "    </tr>\n",
       "  </tbody>\n",
       "</table>\n",
       "<p>5 rows × 279 columns</p>\n",
       "</div>"
      ],
      "text/plain": [
       "   aa  aa.1  aa.2  aa.3  aa.4  aa.5  aa.6  aa.7  aa.8  aa.9   ...    aa.269  \\\n",
       "0  48     0   162    84    80   154   354   171    85    39   ...       0.1   \n",
       "1  49     1   168    66    94   170   383   152   115    92   ...      -0.3   \n",
       "2  11     0   140    42    88   123   362   228    81   -18   ...       0.1   \n",
       "3  47     0   176    95    80   168   368   184    93    73   ...      -0.4   \n",
       "4  40     0   170    68    93   151   382   266   100    48   ...      -0.4   \n",
       "\n",
       "   aa.270  aa.271  aa.272  aa.273  aa.274  aa.275  aa.276  aa.277  aa.278  \n",
       "0     0.0     7.8    -1.2     0.0       0     0.8     1.1    14.0    23.6  \n",
       "1     0.0     8.2    -0.7     0.0       0     0.8     1.7    21.5    33.7  \n",
       "2     0.0    17.1    -7.1     0.0       0     0.7     5.5    15.1    84.4  \n",
       "3     0.0    10.4    -1.1     0.0       0     0.6     2.8    25.1    49.7  \n",
       "4     0.0     8.2     0.0     0.0       0     0.8     1.5    24.6    42.0  \n",
       "\n",
       "[5 rows x 279 columns]"
      ]
     },
     "execution_count": 1571,
     "metadata": {},
     "output_type": "execute_result"
    }
   ],
   "source": [
    "#data = data.loc[:,(data!=0).any(axis=0)]\n",
    "data.head()"
   ]
  },
  {
   "cell_type": "code",
   "execution_count": 1572,
   "metadata": {
    "collapsed": false
   },
   "outputs": [
    {
     "data": {
      "text/plain": [
       "0     1\n",
       "1     1\n",
       "2    10\n",
       "3    10\n",
       "4     3\n",
       "Name: label, dtype: int64"
      ]
     },
     "execution_count": 1572,
     "metadata": {},
     "output_type": "execute_result"
    }
   ],
   "source": [
    "labels.head()\n",
    "#labels.to_csv('l.csv',index=False)"
   ]
  },
  {
   "cell_type": "code",
   "execution_count": 1573,
   "metadata": {
    "collapsed": false
   },
   "outputs": [
    {
     "name": "stdout",
     "output_type": "stream",
     "text": [
      "[[  48.     0.   162.  ...,    1.1   14.    23.6]\n",
      " [  49.     1.   168.  ...,    1.7   21.5   33.7]\n",
      " [  11.     0.   140.  ...,    5.5   15.1   84.4]\n",
      " ..., \n",
      " [  56.     0.   173.  ...,    2.7   23.    48.9]\n",
      " [  24.     0.   176.  ...,    2.1   17.1   35.5]\n",
      " [  39.     1.   160.  ...,    1.9   26.6   41.4]]\n",
      "[ 1  1 10 10  3  1  8  1  1 10  1  2  1  2  6 10 16  1  5  1  1  1  1 16  1\n",
      "  1  1  2  1  1  5  3  1  1  1 16  9  1  1 10  9  2  1  1  6  2 10 16  9  6\n",
      "  1  1  1  6  9  1  4  1  1  3  1  6  1  6  4  7  4  2  1  1 10  1  1  1  2\n",
      "  1  2  2  1  1  6  2  1  1  1  4 15  1  2  1  4  1  1  1  1  1  5 10  1  1\n",
      "  1 10  1  9 10  6  3  1  2  6  5  6 16 10 10  1  6  1  1  1  1 16  6  1  2\n",
      "  1  1 16  2 10 10  1  5 10  4  1  1  6  1  1  1  1  5  3  3  1  2 10  1 10\n",
      "  1  4  9 10  1  1  1  2 10  1  5 16  1  1  1 10  1  1  1  1  1  4  1  6 10\n",
      "  6  1  1 10 15  1  1  1  1  1  2  4 15  1  2  2  1  1  1 10  1  1 16  1  6\n",
      "  1  1  1 10  1  1  1  1  1  1  1  1  2 14  1  1  1  1  4  2  2 15  1 16  1\n",
      "  1  1  1  2 10  5 16  5  1  4  6  1  3 10 16  2  1  1  1  6  4  1  1  1  1\n",
      " 16  2 10 10  1  1  1  3  8 16  1  1  1  1  2  1  1  1  1  1 16  1  5  1 10\n",
      "  1  1  3  1  1 10  1  1  2  1  1  1  1  1 16 10  4  1 14  2 10  1  1  2  1\n",
      "  5  1  1  1  1  2  2  1  1  6 10  3 15 10  1  3  1  1  1  1 16  5  1 16  2\n",
      " 10  2 16  1 14  1  1 16  1  6  1  1  1  3  1  1  1  1  1  1 10  1  1  1  1\n",
      "  1  1  2  4  2 10  1 16  1  1  6  2 10  1  1  1  1 10  1  1  4  2  2  1  6\n",
      "  1  1  1  2  3  1  5  1  1  1  1  1  1 10 10 10  1  1  7  2 10  1  1  1  6\n",
      "  1 10  1  1  2  1  1 10  2 10  3 10  1  1 10  1  1  1  1 10  1  1 14  1  1\n",
      "  1  1  1  1  1 10  1  7  1  9  1  1  1  2  3  1  1  9 16  2  1  9  1  6  6\n",
      "  1  1]\n"
     ]
    }
   ],
   "source": [
    "X = data.as_matrix()\n",
    "Y = labels.as_matrix()\n",
    "print X\n",
    "print Y"
   ]
  },
  {
   "cell_type": "code",
   "execution_count": 1574,
   "metadata": {
    "collapsed": false
   },
   "outputs": [
    {
     "name": "stdout",
     "output_type": "stream",
     "text": [
      "316\n",
      "136\n"
     ]
    }
   ],
   "source": [
    "X_train, X_test, y_train, y_test = train_test_split(X, Y, test_size=0.30, random_state=42)\n",
    "print len(X_train)\n",
    "print len(X_test)"
   ]
  },
  {
   "cell_type": "code",
   "execution_count": 1575,
   "metadata": {
    "collapsed": false
   },
   "outputs": [
    {
     "data": {
      "text/plain": [
       "'from sklearn.decomposition import PCA\\npca = PCA(n_components=270)\\npca.fit(X_train)\\nX_train = pca.transform(X_train)\\nX_test = pca.transform(X_test)\\nprint X_train.shape\\nprint X_test.shape'"
      ]
     },
     "execution_count": 1575,
     "metadata": {},
     "output_type": "execute_result"
    }
   ],
   "source": [
    "'''from sklearn.decomposition import PCA\n",
    "pca = PCA(n_components=270)\n",
    "pca.fit(X_train)\n",
    "X_train = pca.transform(X_train)\n",
    "X_test = pca.transform(X_test)\n",
    "print X_train.shape\n",
    "print X_test.shape'''\n",
    "#from sklearn.preprocessing import MinMaxScaler\n",
    "#min_max=MinMaxScaler()\n",
    "#X_train = min_max.fit_transform(X_train)\n",
    "#X_test = min_max.fit_transform(X_test)\n",
    "#print X_train\n",
    "#print X_test\n"
   ]
  },
  {
   "cell_type": "code",
   "execution_count": 1576,
   "metadata": {
    "collapsed": false
   },
   "outputs": [
    {
     "name": "stdout",
     "output_type": "stream",
     "text": [
      "[[ 0.09449459  0.0017499   0.30098276 ...,  0.00087495  0.01539912\n",
      "   0.02117379]\n",
      " [ 0.09221003  0.          0.27992331 ..., -0.00148195  0.0688282\n",
      "   0.05236212]\n",
      " [ 0.06680983  0.          0.27701639 ..., -0.00358492  0.08131246\n",
      "   0.05491443]\n",
      " ..., \n",
      " [ 0.05786936  0.00192898  0.30863657 ...,  0.00424375  0.02141166\n",
      "   0.0536256 ]\n",
      " [ 0.05939603  0.00179988  0.29698013 ...,  0.00071995  0.03491766\n",
      "   0.04049729]\n",
      " [ 0.06492207  0.00170848  0.28189847 ...,  0.00341695  0.05296274\n",
      "   0.07619801]]\n",
      "[[ 0.1389882   0.00167456  0.26792906 ...,  0.00502367  0.04018936\n",
      "   0.08841659]\n",
      " [ 0.10277723  0.          0.31170145 ...,  0.00286428  0.04448064\n",
      "   0.05812811]\n",
      " [ 0.07220842  0.0016411   0.26257606 ...,  0.00278987  0.06433113\n",
      "   0.08878353]\n",
      " ..., \n",
      " [ 0.07572632  0.00164622  0.26833457 ...,  0.00263396  0.0241995\n",
      "   0.05152682]\n",
      " [ 0.0638851   0.          0.2842887  ...,  0.00383311  0.03944905\n",
      "   0.07841896]\n",
      " [ 0.08065056  0.00155097  0.24040072 ...,  0.00093058  0.01581992\n",
      "   0.02543595]]\n"
     ]
    }
   ],
   "source": [
    "'''from sklearn import preprocessing\n",
    "X_train = preprocessing.scale(X_train)\n",
    "X_test = preprocessing.scale(X_test)\n",
    "print X_train\n",
    "print X_test\n",
    "print X_train.mean(axis=0)\n",
    "print X_train.std(axis=0)\n",
    "print X_test.mean(axis=0)\n",
    "print X_test.std(axis=0)'''\n",
    "from sklearn import preprocessing\n",
    "#binarizer = preprocessing.Binarizer().fit(X_train)\n",
    "'''poly = preprocessing.PolynomialFeatures(2)\n",
    "X_train = poly.fit_transform(X_train) \n",
    "X_test = poly.transform(X_test)\n",
    "print X_train\n",
    "print X_test'''\n",
    "'''scaler = preprocessing.StandardScaler().fit(X_train)'''\n",
    "#max_abs_scaler = preprocessing.MaxAbsScaler()\n",
    "X_train = preprocessing.normalize(X_train, norm='l2')\n",
    "X_test = preprocessing.normalize(X_test, norm='l2')\n",
    "print X_train\n",
    "print X_test"
   ]
  },
  {
   "cell_type": "code",
   "execution_count": 1666,
   "metadata": {
    "collapsed": false
   },
   "outputs": [
    {
     "data": {
      "text/plain": [
       "0.65441176470588236"
      ]
     },
     "execution_count": 1666,
     "metadata": {},
     "output_type": "execute_result"
    }
   ],
   "source": [
    "from sklearn import tree\n",
    "from sklearn.metrics import accuracy_score\n",
    "clf = tree.DecisionTreeClassifier(min_samples_split=2,min_samples_leaf=20)\n",
    "clf.fit(X_train, y_train)\n",
    "pred = clf.predict(X_test)\n",
    "accuracy_score(pred,y_test)"
   ]
  },
  {
   "cell_type": "code",
   "execution_count": 1665,
   "metadata": {
    "collapsed": false
   },
   "outputs": [
    {
     "data": {
      "text/plain": [
       "0.79411764705882348"
      ]
     },
     "execution_count": 1665,
     "metadata": {},
     "output_type": "execute_result"
    }
   ],
   "source": [
    "from sklearn import svm\n",
    "clf = svm.SVC(C=30,kernel=\"linear\",gamma=0.1,max_iter=100,tol= 1.2)\n",
    "clf.fit(X_train, y_train)\n",
    "pred = clf.predict(X_test)\n",
    "accuracy_score(pred,y_test)"
   ]
  },
  {
   "cell_type": "code",
   "execution_count": 1621,
   "metadata": {
    "collapsed": false
   },
   "outputs": [
    {
     "data": {
      "text/plain": [
       "0.69117647058823528"
      ]
     },
     "execution_count": 1621,
     "metadata": {},
     "output_type": "execute_result"
    }
   ],
   "source": [
    "from sklearn.ensemble import RandomForestClassifier\n",
    "clf = RandomForestClassifier(n_estimators=15)\n",
    "clf.fit(X_train, y_train)\n",
    "pred = clf.predict(X_test)\n",
    "accuracy_score(pred,y_test)"
   ]
  },
  {
   "cell_type": "code",
   "execution_count": 1580,
   "metadata": {
    "collapsed": false
   },
   "outputs": [
    {
     "data": {
      "text/plain": [
       "0.61764705882352944"
      ]
     },
     "execution_count": 1580,
     "metadata": {},
     "output_type": "execute_result"
    }
   ],
   "source": [
    "from sklearn.neighbors import KNeighborsClassifier\n",
    "p = list(tuple())\n",
    "clf = KNeighborsClassifier(n_neighbors=6)\n",
    "clf.fit(X_train, y_train)\n",
    "pred = clf.predict(X_test)\n",
    "\n",
    "accuracy_score(pred,y_test)"
   ]
  },
  {
   "cell_type": "code",
   "execution_count": 1674,
   "metadata": {
    "collapsed": false
   },
   "outputs": [
    {
     "name": "stdout",
     "output_type": "stream",
     "text": [
      "0.713235294118\n"
     ]
    }
   ],
   "source": [
    "from sklearn.neural_network import MLPClassifier\n",
    "\n",
    "clf = MLPClassifier(solver='adam', alpha=0.03,hidden_layer_sizes=(250), random_state=15,activation='tanh',max_iter=200)\n",
    "clf.fit(X_train, y_train)\n",
    "pred = clf.predict(X_test)\n",
    "print accuracy_score(pred,y_test)"
   ]
  },
  {
   "cell_type": "code",
   "execution_count": 1582,
   "metadata": {
    "collapsed": false
   },
   "outputs": [
    {
     "data": {
      "text/plain": [
       "0.55147058823529416"
      ]
     },
     "execution_count": 1582,
     "metadata": {},
     "output_type": "execute_result"
    }
   ],
   "source": [
    "from sklearn.linear_model import LogisticRegression\n",
    "clf = LogisticRegression(C=0.3) \n",
    "clf.fit(X_train, y_train)\n",
    "pred = clf.predict(X_test)\n",
    "accuracy_score(pred,y_test)"
   ]
  },
  {
   "cell_type": "code",
   "execution_count": 1633,
   "metadata": {
    "collapsed": false
   },
   "outputs": [
    {
     "name": "stdout",
     "output_type": "stream",
     "text": [
      "0.794117647059\n"
     ]
    },
    {
     "data": {
      "text/plain": [
       "\"k = ['lbfgs', 'sgd', 'adam']\\np = ['tanh','logistic']\\nfor s in k:\\n    for a  in p:\\n        print s,a\\n        clf5 = MLPClassifier(solver=s, alpha=0.03,hidden_layer_sizes=(150), random_state=15,activation=a,max_iter=500)\\n        clf5.fit(X_lr_svm, y_train)\\n        pred = clf5.predict(X_t)\\n        print accuracy_score(pred,y_test)\""
      ]
     },
     "execution_count": 1633,
     "metadata": {},
     "output_type": "execute_result"
    }
   ],
   "source": [
    "clf1  = svm.SVC(C=30,kernel=\"linear\",gamma=0.3,max_iter=200,tol= 1.2)\n",
    "clf1.fit(X_train,y_train)\n",
    "pred1 = clf1.predict(X_train)\n",
    "clf2 = LogisticRegression(C=.03) \n",
    "clf2.fit(X_train,y_train)\n",
    "pred2 = clf2.predict(X_train)\n",
    "X_lr_svm = [pred1,pred2]\n",
    "X_lr_svm = np.array(X_lr_svm)\n",
    "X_lr_svm = X_lr_svm.T\n",
    "#print X_lr_svm\n",
    "\n",
    "pred3 = clf1.predict(X_test)\n",
    "pred4 = clf2.predict(X_test)\n",
    "X_t = [pred3,pred4]\n",
    "X_t = np.array(X_t)\n",
    "X_t = X_t.T\n",
    "\n",
    "clf4 = KNeighborsClassifier(n_neighbors=6) \n",
    "clf4.fit(X_lr_svm,y_train)\n",
    "pred = clf4.predict(X_t)\n",
    "print accuracy_score(pred,y_test)\n",
    "\n",
    "'''k = ['lbfgs', 'sgd', 'adam']\n",
    "p = ['tanh','logistic']\n",
    "for s in k:\n",
    "    for a  in p:\n",
    "        print s,a\n",
    "        clf5 = MLPClassifier(solver=s, alpha=0.03,hidden_layer_sizes=(150), random_state=15,activation=a,max_iter=500)\n",
    "        clf5.fit(X_lr_svm, y_train)\n",
    "        pred = clf5.predict(X_t)\n",
    "        print accuracy_score(pred,y_test)'''"
   ]
  },
  {
   "cell_type": "code",
   "execution_count": null,
   "metadata": {
    "collapsed": true
   },
   "outputs": [],
   "source": []
  }
 ],
 "metadata": {
  "kernelspec": {
   "display_name": "Python 2",
   "language": "python",
   "name": "python2"
  },
  "language_info": {
   "codemirror_mode": {
    "name": "ipython",
    "version": 2
   },
   "file_extension": ".py",
   "mimetype": "text/x-python",
   "name": "python",
   "nbconvert_exporter": "python",
   "pygments_lexer": "ipython2",
   "version": "2.7.13"
  }
 },
 "nbformat": 4,
 "nbformat_minor": 2
}
